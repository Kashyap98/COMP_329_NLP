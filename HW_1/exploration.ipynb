{
 "cells": [
  {
   "cell_type": "code",
   "execution_count": 22,
   "metadata": {
    "collapsed": true
   },
   "outputs": [],
   "source": [
    "# imports\n",
    "import os\n",
    "import gen_utils\n",
    "import matplotlib.pyplot as plt"
   ]
  },
  {
   "cell_type": "code",
   "execution_count": 23,
   "outputs": [],
   "source": [
    "positive_reviews_counter = gen_utils.get_counter_for_word_file(gen_utils.POSITIVES_REVIEWS_PATH)\n",
    "negative_reviews_counter = gen_utils.get_counter_for_word_file(gen_utils.NEGATIVE_REVIEWS_PATH)"
   ],
   "metadata": {
    "collapsed": false,
    "pycharm": {
     "name": "#%%\n"
    }
   }
  },
  {
   "cell_type": "code",
   "execution_count": 23,
   "outputs": [],
   "source": [],
   "metadata": {
    "collapsed": false,
    "pycharm": {
     "name": "#%%\n"
    }
   }
  },
  {
   "cell_type": "code",
   "execution_count": 24,
   "outputs": [],
   "source": [
    "with open(os.path.join(gen_utils.DATA_FOLDER_PATH, \"output.csv\"), \"w\") as output_file:\n",
    "    for word, count in positive_reviews_counter.items():\n",
    "        output_file.write(f\"{word},{count}\\n\")"
   ],
   "metadata": {
    "collapsed": false,
    "pycharm": {
     "name": "#%%\n"
    }
   }
  },
  {
   "cell_type": "code",
   "execution_count": 25,
   "outputs": [],
   "source": [
    "# find out words that are unique in either set.\n",
    "# positive_unique\n",
    "positive_unique = set(positive_reviews_counter.keys()) - set(negative_reviews_counter.keys())\n",
    "\n",
    "# negative_unique\n",
    "negative_unique = set(negative_reviews_counter.keys()) - set(positive_reviews_counter.keys())\n"
   ],
   "metadata": {
    "collapsed": false,
    "pycharm": {
     "name": "#%%\n"
    }
   }
  },
  {
   "cell_type": "code",
   "execution_count": 28,
   "outputs": [],
   "source": [
    "positive_sentences = gen_utils.get_sentence_list_for_word_file(gen_utils.POSITIVES_REVIEWS_PATH)\n",
    "positive_sentences_with_unique = []\n",
    "for word in positive_unique:\n",
    "    for positive_sentence in positive_sentences:\n",
    "        if word in positive_sentence:\n",
    "            if positive_sentence not in positive_sentences_with_unique:\n",
    "                positive_sentences_with_unique.append(positive_sentence)"
   ],
   "metadata": {
    "collapsed": false,
    "pycharm": {
     "name": "#%%\n"
    }
   }
  },
  {
   "cell_type": "code",
   "execution_count": null,
   "outputs": [],
   "source": [
    "# filter out as many positives a\n",
    "for"
   ],
   "metadata": {
    "collapsed": false,
    "pycharm": {
     "name": "#%%\n"
    }
   }
  }
 ],
 "metadata": {
  "kernelspec": {
   "display_name": "Python 3",
   "language": "python",
   "name": "python3"
  },
  "language_info": {
   "codemirror_mode": {
    "name": "ipython",
    "version": 2
   },
   "file_extension": ".py",
   "mimetype": "text/x-python",
   "name": "python",
   "nbconvert_exporter": "python",
   "pygments_lexer": "ipython2",
   "version": "2.7.6"
  }
 },
 "nbformat": 4,
 "nbformat_minor": 0
}